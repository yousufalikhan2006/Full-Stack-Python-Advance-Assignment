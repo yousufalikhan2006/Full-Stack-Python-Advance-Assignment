{
 "cells": [
  {
   "cell_type": "markdown",
   "id": "9c5e5549",
   "metadata": {},
   "source": [
    "# 1. What is the concept of an abstract superclass?\n",
    "\n",
    "## Answer:"
   ]
  },
  {
   "cell_type": "markdown",
   "id": "e17b4010",
   "metadata": {},
   "source": [
    "#### An abstract superclass is the class that calls a method, but does not inherit or define it. It expects the method to be filled in by a subclass. This is often used as a way to generalize classes when behavior cann't be predicted until a more specific subclass is coded. OOP frameworks also use this as a way to dispatch to client-defined, customizable operations."
   ]
  },
  {
   "cell_type": "markdown",
   "id": "11273977",
   "metadata": {},
   "source": [
    "# 2. What happens when a class statement's top level contains a basic assignment statement?\n",
    "\n",
    "## Answer:"
   ]
  },
  {
   "cell_type": "markdown",
   "id": "27d308fc",
   "metadata": {},
   "source": [
    "#### When a simple basic assignment statement (X=Y) appears at the top level of a class statement, it attaches the data attribute to the class (Class, X). Like all class attributes, this will be shared by all instances; data attributes are not a callable method functions though. "
   ]
  },
  {
   "cell_type": "markdown",
   "id": "5c63d5d0",
   "metadata": {},
   "source": [
    "# 3. Why does a class need to manually call a superclass's __init__ method?\n",
    "\n",
    "## Answer:"
   ]
  },
  {
   "cell_type": "markdown",
   "id": "64b60913",
   "metadata": {},
   "source": [
    "#### A class must manually call the __init__ method in a superclass if it defines an __init__ constructor of its own, but must still kick off the superclass's construction code. Python itself automatically runs just one constructor-- the lowest one in the tree. Superclass constructors are called through the class name, passing in the self instance manually: Superclass.__init__(self,...)."
   ]
  },
  {
   "cell_type": "markdown",
   "id": "df46f06d",
   "metadata": {},
   "source": [
    "# 4. How can you augment, instead of completely replacing, an inherited method?\n",
    "\n",
    "## Answer:"
   ]
  },
  {
   "cell_type": "markdown",
   "id": "c0762c5a",
   "metadata": {},
   "source": [
    "#### To augment instead of completely replacing an inherited method, redefine it in a subclass, but call call back to the superclass's version of method manually from the new version of the method in the subclass. That is pass the self instance to the superclass's version of the method manually : Superclass.method(self, ....)"
   ]
  },
  {
   "cell_type": "markdown",
   "id": "80630e2f",
   "metadata": {},
   "source": [
    "# 5. How is the local scope of a class different from that of a function?\n",
    "\n",
    "## Answer:"
   ]
  },
  {
   "cell_type": "markdown",
   "id": "1c212cea",
   "metadata": {},
   "source": [
    "#### Declaring a variable in a class (outside of a function): all class functions can access it (basically a public variable).\n",
    "#### Declaring a variable inside a function inside a class: only that function can access it (it's in that function's scope).\n",
    "#### Declaring a variable with self.(variable name) inside a function inside a class: all class functions can access it (how is this different from global (variable name)?)"
   ]
  }
 ],
 "metadata": {
  "kernelspec": {
   "display_name": "Python 3",
   "language": "python",
   "name": "python3"
  },
  "language_info": {
   "codemirror_mode": {
    "name": "ipython",
    "version": 3
   },
   "file_extension": ".py",
   "mimetype": "text/x-python",
   "name": "python",
   "nbconvert_exporter": "python",
   "pygments_lexer": "ipython3",
   "version": "3.8.8"
  }
 },
 "nbformat": 4,
 "nbformat_minor": 5
}
