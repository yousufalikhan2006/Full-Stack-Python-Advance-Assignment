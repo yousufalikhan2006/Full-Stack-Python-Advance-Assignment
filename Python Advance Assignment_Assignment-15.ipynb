{
 "cells": [
  {
   "cell_type": "markdown",
   "id": "17489b0f",
   "metadata": {},
   "source": [
    "# 1.\tWhat are the new features added in Python 3.8 version?\n",
    "\n",
    "## Answer:"
   ]
  },
  {
   "cell_type": "markdown",
   "id": "b51727a0",
   "metadata": {},
   "source": [
    "#### Python 3.8 is the latest version of the popular language for everything from scripting and automation to machine learning and web development. Now available in an official beta release, Python 3.8 brings a number of slick syntax changes, memory sharing, more efficient serialization and deserialization, revamped dictionaries, and much more.\n",
    "\n",
    "#### Naturally, Python 3.8 ushers in all manner of performance improvements as well. The overall result is a faster, more concise, more consistent, and more modern Python. Here’s what’s new and most significant in Python 3.8."
   ]
  },
  {
   "cell_type": "markdown",
   "id": "d0dc574a",
   "metadata": {},
   "source": [
    "# 2.\tWhat is monkey patching in Python?\n",
    "\n",
    "## Answer:"
   ]
  },
  {
   "cell_type": "markdown",
   "id": "8730416b",
   "metadata": {},
   "source": [
    "#### In Python, the term monkey patch refers to dynamic (or run-time) modifications of a class or module. In Python, we can actually change the behavior of code at run-time. We use above module (monk) in below code and change behavior of func() at run-time by assigning different value"
   ]
  },
  {
   "cell_type": "markdown",
   "id": "19993bfd",
   "metadata": {},
   "source": [
    "# 3.\tWhat is the difference between a shallow copy and deep copy?\n",
    "\n",
    "## Answer:"
   ]
  },
  {
   "cell_type": "markdown",
   "id": "7aa1c906",
   "metadata": {},
   "source": [
    "#### A shallow copy constructs a new compound object and then (to the extent possible) inserts references into it to the objects found in the original. A deep copy constructs a new compound object and then, recursively, inserts copies into it of the objects found in the original."
   ]
  },
  {
   "cell_type": "markdown",
   "id": "eaca50e3",
   "metadata": {},
   "source": [
    "# 4.\tWhat is the maximum possible length of an identifier?\n",
    "\n",
    "## Answer:"
   ]
  },
  {
   "cell_type": "markdown",
   "id": "33f147a6",
   "metadata": {},
   "source": [
    "#### Identifiers are unlimited in length. But you'll be violating PEP-8 most likely, which is not really cool: Limit all lines to a maximum of 79 characters."
   ]
  },
  {
   "cell_type": "markdown",
   "id": "760c9baf",
   "metadata": {},
   "source": [
    "# 5.\tWhat is generator comprehension?\n",
    "\n",
    "## Answer:"
   ]
  },
  {
   "cell_type": "markdown",
   "id": "49b9a7cd",
   "metadata": {},
   "source": [
    "#### A generator comprehension is a single-line specification for defining a generator in Python. It is absolutely essential to learn this syntax in order to write simple and readable code. Note: Generator comprehensions are not the only method for defining generators in Python."
   ]
  }
 ],
 "metadata": {
  "kernelspec": {
   "display_name": "Python 3",
   "language": "python",
   "name": "python3"
  },
  "language_info": {
   "codemirror_mode": {
    "name": "ipython",
    "version": 3
   },
   "file_extension": ".py",
   "mimetype": "text/x-python",
   "name": "python",
   "nbconvert_exporter": "python",
   "pygments_lexer": "ipython3",
   "version": "3.8.8"
  }
 },
 "nbformat": 4,
 "nbformat_minor": 5
}
