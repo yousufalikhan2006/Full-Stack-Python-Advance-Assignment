{
 "cells": [
  {
   "cell_type": "markdown",
   "id": "6767ab78",
   "metadata": {},
   "source": [
    "# Q1. Can you create a programme or function that employs both positive and negative indexing? Is there any repercussion if you do so?\n",
    "\n",
    "## Answer:"
   ]
  },
  {
   "cell_type": "markdown",
   "id": "5a0138a0",
   "metadata": {},
   "source": [
    "#### Please find the below programme which employs both positive and negative indexing. there seems no repurcussion while printing the values. "
   ]
  },
  {
   "cell_type": "code",
   "execution_count": 17,
   "id": "6bfda92b",
   "metadata": {},
   "outputs": [
    {
     "data": {
      "text/plain": [
       "'abcd'"
      ]
     },
     "execution_count": 17,
     "metadata": {},
     "output_type": "execute_result"
    }
   ],
   "source": [
    "str1='abcd'\n",
    "\n",
    "str1[0:4:]"
   ]
  },
  {
   "cell_type": "code",
   "execution_count": 18,
   "id": "47fd3d23",
   "metadata": {},
   "outputs": [
    {
     "data": {
      "text/plain": [
       "'abcd'"
      ]
     },
     "execution_count": 18,
     "metadata": {},
     "output_type": "execute_result"
    }
   ],
   "source": [
    "str1[-4::]"
   ]
  },
  {
   "cell_type": "markdown",
   "id": "23b426c1",
   "metadata": {},
   "source": [
    "# Q2. What is the most effective way of starting with 1,000 elements in a Python list? Assume that all elements should be set to the same value.\n",
    "\n",
    "## Answer:"
   ]
  },
  {
   "cell_type": "markdown",
   "id": "b00fe36e",
   "metadata": {},
   "source": [
    "#### We can create a string having 1000 element with same value by using list comprehenssion. e.g."
   ]
  },
  {
   "cell_type": "code",
   "execution_count": null,
   "id": "c93ce8aa",
   "metadata": {},
   "outputs": [],
   "source": [
    "['same' for i in range(0,1000)]"
   ]
  },
  {
   "cell_type": "markdown",
   "id": "9465904f",
   "metadata": {},
   "source": [
    "# Q3. How do you slice a list to get any other part while missing the rest? (For example, suppose you want to make a new list with the elements first, third, fifth, seventh, and so on.)\n",
    "\n",
    "## Answer:"
   ]
  },
  {
   "cell_type": "code",
   "execution_count": 30,
   "id": "c63a0266",
   "metadata": {},
   "outputs": [
    {
     "data": {
      "text/plain": [
       "[0, 2, 4, 6, 8, 10, 12, 14]"
      ]
     },
     "execution_count": 30,
     "metadata": {},
     "output_type": "execute_result"
    }
   ],
   "source": [
    "lst = list(range(15))\n",
    "\n",
    "lst_new = lst[::2]\n",
    "\n",
    "lst_new"
   ]
  },
  {
   "cell_type": "code",
   "execution_count": 31,
   "id": "fc1eb2d8",
   "metadata": {},
   "outputs": [
    {
     "data": {
      "text/plain": [
       "[0, 1, 2, 3, 4, 5, 6, 7, 8, 9, 10, 11, 12, 13, 14]"
      ]
     },
     "execution_count": 31,
     "metadata": {},
     "output_type": "execute_result"
    }
   ],
   "source": [
    "lst"
   ]
  },
  {
   "cell_type": "markdown",
   "id": "35c6d3e7",
   "metadata": {},
   "source": [
    "# Q4. Explain the distinctions between indexing and slicing.\n",
    "\n",
    "## Answer:"
   ]
  },
  {
   "cell_type": "markdown",
   "id": "af37237a",
   "metadata": {},
   "source": [
    "#### “Indexing” means referring to an element of an iterable by its position within the iterable. “Slicing” means getting a subset of elements from an iterable based on their indices. ... You might say my juror number was my index.\n",
    "\n",
    "#### Indexing returns a single item, but slicing returns a subsequence of items."
   ]
  },
  {
   "cell_type": "markdown",
   "id": "508ff99a",
   "metadata": {},
   "source": [
    "# Q5. What happens if one of the slicing expression's indexes is out of range?\n",
    "\n",
    "## Answer:"
   ]
  },
  {
   "cell_type": "markdown",
   "id": "b85f0df3",
   "metadata": {},
   "source": [
    "#### when you slice a sequence outside of bounds, you can still return an empty sequence. Examples are given below:"
   ]
  },
  {
   "cell_type": "code",
   "execution_count": 32,
   "id": "12d4f893",
   "metadata": {},
   "outputs": [
    {
     "data": {
      "text/plain": [
       "'abcd'"
      ]
     },
     "execution_count": 32,
     "metadata": {},
     "output_type": "execute_result"
    }
   ],
   "source": [
    "str1"
   ]
  },
  {
   "cell_type": "code",
   "execution_count": 33,
   "id": "46c417fa",
   "metadata": {},
   "outputs": [
    {
     "data": {
      "text/plain": [
       "'abcd'"
      ]
     },
     "execution_count": 33,
     "metadata": {},
     "output_type": "execute_result"
    }
   ],
   "source": [
    "str1[0:50]"
   ]
  },
  {
   "cell_type": "code",
   "execution_count": 35,
   "id": "36982440",
   "metadata": {},
   "outputs": [
    {
     "data": {
      "text/plain": [
       "''"
      ]
     },
     "execution_count": 35,
     "metadata": {},
     "output_type": "execute_result"
    }
   ],
   "source": [
    "str1[5:]"
   ]
  },
  {
   "cell_type": "markdown",
   "id": "cefb33a2",
   "metadata": {},
   "source": [
    "# Q6. If you pass a list to a function, and if you want the function to be able to change the values of the list—so that the list is different after the function returns—what action should you avoid?\n",
    "\n",
    "## Answer:"
   ]
  },
  {
   "cell_type": "markdown",
   "id": "409218ce",
   "metadata": {},
   "source": [
    "#### One should keep maintain the immutability of all the list elements i.e. string in order to change the values of the list."
   ]
  },
  {
   "cell_type": "code",
   "execution_count": 41,
   "id": "5a3ed3bf",
   "metadata": {},
   "outputs": [],
   "source": [
    "l=['ab', 'cd', 'ef']"
   ]
  },
  {
   "cell_type": "markdown",
   "id": "6da75150",
   "metadata": {},
   "source": [
    "# Allowed"
   ]
  },
  {
   "cell_type": "code",
   "execution_count": 42,
   "id": "7f32ff89",
   "metadata": {},
   "outputs": [],
   "source": [
    "l[0]='pk'"
   ]
  },
  {
   "cell_type": "code",
   "execution_count": 43,
   "id": "8b5b027a",
   "metadata": {},
   "outputs": [
    {
     "data": {
      "text/plain": [
       "['pk', 'cd', 'ef']"
      ]
     },
     "execution_count": 43,
     "metadata": {},
     "output_type": "execute_result"
    }
   ],
   "source": [
    "l"
   ]
  },
  {
   "cell_type": "markdown",
   "id": "90b47bdc",
   "metadata": {},
   "source": [
    "# NOT Allowed"
   ]
  },
  {
   "cell_type": "code",
   "execution_count": 40,
   "id": "286ac513",
   "metadata": {},
   "outputs": [
    {
     "ename": "TypeError",
     "evalue": "'str' object does not support item assignment",
     "output_type": "error",
     "traceback": [
      "\u001b[1;31m---------------------------------------------------------------------------\u001b[0m",
      "\u001b[1;31mTypeError\u001b[0m                                 Traceback (most recent call last)",
      "\u001b[1;32m<ipython-input-40-5f338576f566>\u001b[0m in \u001b[0;36m<module>\u001b[1;34m\u001b[0m\n\u001b[1;32m----> 1\u001b[1;33m \u001b[0ml\u001b[0m\u001b[1;33m[\u001b[0m\u001b[1;36m0\u001b[0m\u001b[1;33m]\u001b[0m\u001b[1;33m[\u001b[0m\u001b[1;36m0\u001b[0m\u001b[1;33m]\u001b[0m\u001b[1;33m=\u001b[0m\u001b[1;34m'p'\u001b[0m\u001b[1;33m\u001b[0m\u001b[1;33m\u001b[0m\u001b[0m\n\u001b[0m",
      "\u001b[1;31mTypeError\u001b[0m: 'str' object does not support item assignment"
     ]
    }
   ],
   "source": [
    "l[0][0]='p' #"
   ]
  },
  {
   "cell_type": "markdown",
   "id": "3a70f88c",
   "metadata": {},
   "source": [
    "# Q7. What is the concept of an unbalanced matrix?\n",
    "\n",
    "## Answer:"
   ]
  },
  {
   "cell_type": "markdown",
   "id": "306c51fc",
   "metadata": {},
   "source": [
    "#### Whenever the cost matrix of an assignment problem is not a square matrix, that is, whenever the number of sources is not equal to the number of destinations, the assignment problem is called an unbalanced assignment problem."
   ]
  },
  {
   "cell_type": "markdown",
   "id": "4e7103e4",
   "metadata": {},
   "source": [
    "# Q8. Why is it necessary to use either list comprehension or a loop to create arbitrarily large matrices?\n",
    "\n",
    "## Answer:"
   ]
  },
  {
   "cell_type": "markdown",
   "id": "84771683",
   "metadata": {},
   "source": [
    "#### It makes code simplied and easy to understand."
   ]
  }
 ],
 "metadata": {
  "kernelspec": {
   "display_name": "Python 3",
   "language": "python",
   "name": "python3"
  },
  "language_info": {
   "codemirror_mode": {
    "name": "ipython",
    "version": 3
   },
   "file_extension": ".py",
   "mimetype": "text/x-python",
   "name": "python",
   "nbconvert_exporter": "python",
   "pygments_lexer": "ipython3",
   "version": "3.8.8"
  }
 },
 "nbformat": 4,
 "nbformat_minor": 5
}
