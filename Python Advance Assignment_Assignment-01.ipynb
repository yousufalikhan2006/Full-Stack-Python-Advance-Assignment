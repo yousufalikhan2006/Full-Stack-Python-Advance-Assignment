{
 "cells": [
  {
   "cell_type": "markdown",
   "id": "c537d4f7",
   "metadata": {},
   "source": [
    "# Q1. What is the purpose of Python's OOP?\n",
    "\n",
    "## Answer:"
   ]
  },
  {
   "cell_type": "markdown",
   "id": "5a035511",
   "metadata": {},
   "source": [
    "### Developers often choose to use OOP in their Python programs because it makes code more reusable and makes it easier to work with larger programs. OOP programs prevent you from repeating code because a class can be defined once and reused many times."
   ]
  },
  {
   "cell_type": "markdown",
   "id": "bd3f6953",
   "metadata": {},
   "source": [
    "# Q2. Where does an inheritance search look for an attribute?\n",
    "\n",
    "## Answer:"
   ]
  },
  {
   "cell_type": "markdown",
   "id": "00139c47",
   "metadata": {},
   "source": [
    "### attribute fetches are simply tree searches. The term inheritance is applied because objects lower in a tree inherit attributes attached to objects higher in that tree. As the search proceeds from the bottom up, in a sense, the objects linked into a tree are the union of all the attributes defined in all their tree parents, all the way up the tree."
   ]
  },
  {
   "cell_type": "markdown",
   "id": "9dec007f",
   "metadata": {},
   "source": [
    "# Q3. How do you distinguish between a class object and an instance object?\n",
    "\n",
    "## Answer:"
   ]
  },
  {
   "cell_type": "markdown",
   "id": "1083cf3d",
   "metadata": {},
   "source": [
    "### The class is equal to the BLUE print. The Object is an actual thing that is built based on the ‘blue print’ (like the house). An instance is a virtual copy (but not a real copy) of the object."
   ]
  },
  {
   "cell_type": "markdown",
   "id": "ffb38832",
   "metadata": {},
   "source": [
    "# Q4. What makes the first argument in a class’s method function special?\n",
    "\n",
    "## Answer:"
   ]
  },
  {
   "cell_type": "markdown",
   "id": "b697327a",
   "metadata": {},
   "source": [
    "### \"self\" should be the first argument to instance methods.\n",
    "\n",
    "### A Python class can be thought of as some variables collected in a dictionary, and a set of functions where this dictionary is automatically provided as first argument such that functions always have full access to the class variables."
   ]
  },
  {
   "cell_type": "markdown",
   "id": "f5c497a8",
   "metadata": {},
   "source": [
    "# Q5. What is the purpose of the '__init__' method?\n",
    "\n",
    "## Answer:"
   ]
  },
  {
   "cell_type": "markdown",
   "id": "16692bf0",
   "metadata": {},
   "source": [
    "### This is a reseved method in python classes. It is called as a constructor in object oriented terminology. This method is called when an object is created from a class and it allows the class to initialize the attributes of the class."
   ]
  },
  {
   "cell_type": "markdown",
   "id": "051c4f5f",
   "metadata": {},
   "source": [
    "# Q6. What is the process for creating a class instance?\n",
    "\n",
    "## Answer:"
   ]
  },
  {
   "cell_type": "markdown",
   "id": "180273c8",
   "metadata": {},
   "source": [
    "### To create instances of a class, you call the class using class name and pass in whatever arguments its __init__ method accepts."
   ]
  },
  {
   "cell_type": "markdown",
   "id": "890e3704",
   "metadata": {},
   "source": [
    "# Q7. What is the process for creating a class?\n",
    "\n",
    "## Answer:"
   ]
  },
  {
   "cell_type": "markdown",
   "id": "267e928e",
   "metadata": {},
   "source": [
    "### Classes are created by keyword class. Attributes are the variables that belong to a class. Attributes are always public and can be accessed using the dot (.) operator."
   ]
  },
  {
   "cell_type": "markdown",
   "id": "63cf327a",
   "metadata": {},
   "source": [
    "# Q8. How would you define the superclasses of a class?\n",
    "\n",
    "## Answer:"
   ]
  },
  {
   "cell_type": "markdown",
   "id": "ac4fd8c9",
   "metadata": {},
   "source": [
    "### The class from which a class inherits is called the parent or superclass. A class which inherits from a superclass is called a subclass, also called heir class or child class. Superclasses are sometimes called ancestors as well. There exists a hierarchical relationship between classes."
   ]
  }
 ],
 "metadata": {
  "kernelspec": {
   "display_name": "Python 3",
   "language": "python",
   "name": "python3"
  },
  "language_info": {
   "codemirror_mode": {
    "name": "ipython",
    "version": 3
   },
   "file_extension": ".py",
   "mimetype": "text/x-python",
   "name": "python",
   "nbconvert_exporter": "python",
   "pygments_lexer": "ipython3",
   "version": "3.8.8"
  }
 },
 "nbformat": 4,
 "nbformat_minor": 5
}
