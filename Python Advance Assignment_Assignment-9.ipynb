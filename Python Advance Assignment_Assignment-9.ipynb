{
 "cells": [
  {
   "cell_type": "markdown",
   "id": "63aca393",
   "metadata": {},
   "source": [
    "# Q1. In Python 3.X, what are the names and functions of string object types?\n",
    "\n",
    "## Answer:"
   ]
  },
  {
   "cell_type": "markdown",
   "id": "83e723be",
   "metadata": {},
   "source": [
    "#### str.find( )-------------->Return position of sub-string or pattern\n",
    "#### str.isalnum()------------>Check whether string consists of only alphanumeric characters\n",
    "#### str.islower()------------>Check whether characters are all lower case\n",
    "#### str.isupper()------------>Check whether characters are all upper case\n",
    "#### str.isnumeric()---------->Check whether string consists of only numeric characters\n",
    "#### str.isspace()------------>Check whether string consists of only whitespace characters\n",
    "#### len( )------------------->Calculate length of string\n",
    "#### cat( )------------------->Concatenate Strings (Pandas Function)\n",
    "#### separator.join(str)------>Concatenate Strings\n",
    "#### etc.."
   ]
  },
  {
   "cell_type": "markdown",
   "id": "7297ad75",
   "metadata": {},
   "source": [
    "# Q2. How do the string forms in Python 3.X vary in terms of operations?\n",
    "\n",
    "## Answer:"
   ]
  },
  {
   "cell_type": "markdown",
   "id": "2c7c6446",
   "metadata": {},
   "source": [
    "#### In Python 3, all strings are represented in Unicode.In Python 2 are stored internally as 8-bit ASCII, hence it is required to attach 'u' to make it Unicode. It is no longer necessary now."
   ]
  },
  {
   "cell_type": "markdown",
   "id": "e16a7aef",
   "metadata": {},
   "source": [
    "# Q3. In 3.X, how do you put non-ASCII Unicode characters in a string?\n",
    "\n",
    "## Answer:"
   ]
  },
  {
   "cell_type": "markdown",
   "id": "23032a53",
   "metadata": {},
   "source": [
    "# Convert Unicode to plain Python string: \"encode\"\n",
    "#### utf8string = unicodestring.encode(\"utf-8\")\n",
    "#### asciistring = unicodestring.encode(\"ascii\")\n",
    "#### isostring = unicodestring.encode(\"ISO-8859-1\")\n",
    "#### utf16string = unicodestring.encode(\"utf-16\")"
   ]
  },
  {
   "cell_type": "markdown",
   "id": "dda3c578",
   "metadata": {},
   "source": [
    "# Q4. In Python 3.X, what are the key differences between text-mode and binary-mode files?\n",
    "\n",
    "## Answer:"
   ]
  },
  {
   "cell_type": "markdown",
   "id": "f697a438",
   "metadata": {},
   "source": [
    "#### text-mode can store only plain text in a file.However, banary mode can store different types of data (image, audio, text) in a single file.\n",
    "#### A text file stores data in the form of alphabets, digits and other special symbols by storing their ASCII values and are in a human readable format. ... Whereas, a binary file contains a sequence or a collection of bytes which are not in a human readable format.\n",
    "#### Open file in binary mode to access or modify structured records present inside it.\n",
    "#### Text mode has end of file (EOF) and newline (carriage return-linefeed combination) characters in the file buffer. Binary mode does not have such characters."
   ]
  },
  {
   "cell_type": "markdown",
   "id": "de54e8fe",
   "metadata": {},
   "source": [
    "# Q6. What is the best way to make a Unicode text file in a particular encoding format?\n",
    "\n",
    "## Answer:"
   ]
  },
  {
   "cell_type": "markdown",
   "id": "753c82f7",
   "metadata": {},
   "source": [
    "#### Call str.encode(encoding) with encoding set to \"utf8\" to encode str. Call open(file, mode) to open a file with mode set to \"wb\" . \"wb\" writes to files in binary mode and preserves UTF-8 format. Call file.write(data) to write data to the file."
   ]
  },
  {
   "cell_type": "markdown",
   "id": "84a384b8",
   "metadata": {},
   "source": [
    "# Q7. What qualifies ASCII text as a form of Unicode text?\n",
    "\n",
    "## Answer:"
   ]
  },
  {
   "cell_type": "markdown",
   "id": "a42ab67d",
   "metadata": {},
   "source": [
    "#### ASCII defines 128 characters, which map to the numbers 0–127. Unicode defines (less than) 221 characters, which, similarly, map to numbers 0–221 (though not all numbers are currently assigned, and some are reserved)."
   ]
  },
  {
   "cell_type": "markdown",
   "id": "d2ddb681",
   "metadata": {},
   "source": [
    "# Q8. How much of an effect does the change in string types in Python 3.X have on your code?\n",
    "\n",
    "## Answer:"
   ]
  },
  {
   "cell_type": "markdown",
   "id": "e5562259",
   "metadata": {},
   "source": [
    "#### in Python 3, we finally have Unicode (utf-8) strings, and 2 byte classes: byte and bytearrays.\n",
    "#### Python 2 has ASCII str() types, separate unicode(), but no byte type."
   ]
  }
 ],
 "metadata": {
  "kernelspec": {
   "display_name": "Python 3",
   "language": "python",
   "name": "python3"
  },
  "language_info": {
   "codemirror_mode": {
    "name": "ipython",
    "version": 3
   },
   "file_extension": ".py",
   "mimetype": "text/x-python",
   "name": "python",
   "nbconvert_exporter": "python",
   "pygments_lexer": "ipython3",
   "version": "3.8.8"
  }
 },
 "nbformat": 4,
 "nbformat_minor": 5
}
