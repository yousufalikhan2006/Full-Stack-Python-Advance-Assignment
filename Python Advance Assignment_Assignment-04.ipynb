{
 "cells": [
  {
   "cell_type": "markdown",
   "id": "d5de5805",
   "metadata": {},
   "source": [
    "# Q1. Which two operator overloading methods can you use in your classes to support iteration?\n",
    "\n",
    "## Answer:"
   ]
  },
  {
   "cell_type": "markdown",
   "id": "8a55df47",
   "metadata": {},
   "source": [
    "#Classes can support iteration by defining (or inheriting) __getitem__ or __iter__. In all iteration contexts, python tries to use __iter__ first which returns an object that supports the iteration protocol with a __next__ method: If no __iter__ is found by inheritance search, python falls back on the __getitem__ indexing method (which is called repeatedly, with successively higher indexes. If used, yield statement can create the __next__ method automatically."
   ]
  },
  {
   "cell_type": "markdown",
   "id": "188544c2",
   "metadata": {},
   "source": [
    "# Q2. In what contexts do the two operator overloading methods manage printing?\n",
    "\n",
    "## Answer:"
   ]
  },
  {
   "cell_type": "markdown",
   "id": "1a9d2e6d",
   "metadata": {},
   "source": [
    "#The __str__ and __repr__ methods implement object print displays. The former is called by the print and str built in functions; the latter is called by print and str if there is no __str__, and always by the repr built-in, interactive echoes and nested appearances. That is, __repr__ is used everywhere, except by print and str when when a__str__ is defined. A __str__ is usually used for user-friendly displays; __repr__ gives extra details or the object's as-code form."
   ]
  },
  {
   "cell_type": "markdown",
   "id": "cfce9f08",
   "metadata": {},
   "source": [
    "# Q3. In a class, how do you intercept slice operations?\n",
    "\n",
    "## Answer:"
   ]
  },
  {
   "cell_type": "markdown",
   "id": "2c1082c2",
   "metadata": {},
   "source": [
    "#Slicing is caught by the __getitem__ indexing method: it is called with a slice object, instead of a simple integer index, and slice objects may be passed on or inspected as needed."
   ]
  },
  {
   "cell_type": "markdown",
   "id": "d0956434",
   "metadata": {},
   "source": [
    "# Q4. In a class, how do you capture in-place addition?\n",
    "\n",
    "## Answer:"
   ]
  },
  {
   "cell_type": "markdown",
   "id": "003250ab",
   "metadata": {},
   "source": [
    "#In-place addition tries __iadd__ first, __add__ with an assignment second. The same pattern holds true for all binary operators. The __radd__ method also available for right-side addition."
   ]
  },
  {
   "cell_type": "markdown",
   "id": "90bba07a",
   "metadata": {},
   "source": [
    "# Q5. When is it appropriate to use operator overloading?\n",
    "\n",
    "## Answer:"
   ]
  },
  {
   "cell_type": "markdown",
   "id": "7175a4f6",
   "metadata": {},
   "source": [
    "#When a class naturally matches, or needs to emulate, a built-in types interfaces. For example, collections might imitate sequence or mapping interfaces, and callables might be coded for use with an API that expects a function. You generally shouldn't implement expression operators if they don't map to your objects naturally and logically, though--use normally named methods instead."
   ]
  }
 ],
 "metadata": {
  "kernelspec": {
   "display_name": "Python 3",
   "language": "python",
   "name": "python3"
  },
  "language_info": {
   "codemirror_mode": {
    "name": "ipython",
    "version": 3
   },
   "file_extension": ".py",
   "mimetype": "text/x-python",
   "name": "python",
   "nbconvert_exporter": "python",
   "pygments_lexer": "ipython3",
   "version": "3.8.8"
  }
 },
 "nbformat": 4,
 "nbformat_minor": 5
}
