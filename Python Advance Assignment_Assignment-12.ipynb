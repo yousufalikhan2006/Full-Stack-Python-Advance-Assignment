{
 "cells": [
  {
   "cell_type": "markdown",
   "id": "ca961d95",
   "metadata": {},
   "source": [
    "# Q1. Does assigning a value to a string's indexed character violate Python's string immutability?\n",
    "\n",
    "## Answer:"
   ]
  },
  {
   "cell_type": "markdown",
   "id": "64be966b",
   "metadata": {},
   "source": [
    "#### Yes, Its voilating Python's string immutability concept. If we try to assign a character at any index location, it will be thrown an error. For example:"
   ]
  },
  {
   "cell_type": "code",
   "execution_count": 1,
   "id": "49dd1981",
   "metadata": {},
   "outputs": [
    {
     "ename": "TypeError",
     "evalue": "'str' object does not support item assignment",
     "output_type": "error",
     "traceback": [
      "\u001b[1;31m---------------------------------------------------------------------------\u001b[0m",
      "\u001b[1;31mTypeError\u001b[0m                                 Traceback (most recent call last)",
      "\u001b[1;32m<ipython-input-1-24b49e7a5e82>\u001b[0m in \u001b[0;36m<module>\u001b[1;34m\u001b[0m\n\u001b[0;32m      1\u001b[0m \u001b[0mstring\u001b[0m \u001b[1;33m=\u001b[0m \u001b[1;34m'bangalore'\u001b[0m\u001b[1;33m\u001b[0m\u001b[1;33m\u001b[0m\u001b[0m\n\u001b[0;32m      2\u001b[0m \u001b[1;33m\u001b[0m\u001b[0m\n\u001b[1;32m----> 3\u001b[1;33m \u001b[0mstring\u001b[0m\u001b[1;33m[\u001b[0m\u001b[1;36m0\u001b[0m\u001b[1;33m]\u001b[0m\u001b[1;33m=\u001b[0m\u001b[1;34m'd'\u001b[0m\u001b[1;33m\u001b[0m\u001b[1;33m\u001b[0m\u001b[0m\n\u001b[0m",
      "\u001b[1;31mTypeError\u001b[0m: 'str' object does not support item assignment"
     ]
    }
   ],
   "source": [
    "string = 'bangalore'\n",
    "\n",
    "string[0]='d'"
   ]
  },
  {
   "cell_type": "markdown",
   "id": "16c2facd",
   "metadata": {},
   "source": [
    "# Q2. Does using the += operator to concatenate strings violate Python's string immutability? Why or why not?\n",
    "\n",
    "## Answer:"
   ]
  },
  {
   "cell_type": "markdown",
   "id": "84521692",
   "metadata": {},
   "source": [
    "#### No it's not voilating Python's string immutability concept. It's just concatinating the two strings and not mutating any character or set of characters. For example:"
   ]
  },
  {
   "cell_type": "code",
   "execution_count": 3,
   "id": "894075bc",
   "metadata": {},
   "outputs": [
    {
     "data": {
      "text/plain": [
       "'abcefg'"
      ]
     },
     "execution_count": 3,
     "metadata": {},
     "output_type": "execute_result"
    }
   ],
   "source": [
    "str1= 'abc'\n",
    "str2= 'efg'\n",
    "\n",
    "str1+=str2\n",
    "\n",
    "str1"
   ]
  },
  {
   "cell_type": "markdown",
   "id": "d95423bd",
   "metadata": {},
   "source": [
    "# Q3. In Python, how many different ways are there to index a character?\n",
    "\n",
    "## Answer:"
   ]
  },
  {
   "cell_type": "markdown",
   "id": "44069199",
   "metadata": {},
   "source": [
    "### We can access characters in a String in Two ways :\n",
    "\n",
    "#### Accessing Characters by Positive Index Number.\n",
    "#### Accessing Characters by Negative Index Number."
   ]
  },
  {
   "cell_type": "markdown",
   "id": "819e1da2",
   "metadata": {},
   "source": [
    "# Q4. What is the relationship between indexing and slicing?\n",
    "\n",
    "## Answer:"
   ]
  },
  {
   "cell_type": "markdown",
   "id": "edb57b6a",
   "metadata": {},
   "source": [
    "#### “Indexing” means referring to an element of an iterable by its position within the iterable. “Slicing” means getting a subset of elements from an iterable based on their indices. "
   ]
  },
  {
   "cell_type": "markdown",
   "id": "1a9d5443",
   "metadata": {},
   "source": [
    "# Q5. What is an indexed character's exact data type? What is the data form of a slicing-generated substring?\n",
    "\n",
    "## Answer:"
   ]
  },
  {
   "cell_type": "markdown",
   "id": "ea4b50a6",
   "metadata": {},
   "source": [
    "#### indexed character's data type will also be string. And data form will be the sliced string or substring or set of string characters. However, it will not change the original string. For example."
   ]
  },
  {
   "cell_type": "code",
   "execution_count": 4,
   "id": "d80a93ef",
   "metadata": {},
   "outputs": [
    {
     "data": {
      "text/plain": [
       "str"
      ]
     },
     "execution_count": 4,
     "metadata": {},
     "output_type": "execute_result"
    }
   ],
   "source": [
    "str1=\"abcd\"\n",
    "\n",
    "type(str1[0])"
   ]
  },
  {
   "cell_type": "code",
   "execution_count": 5,
   "id": "cbdca747",
   "metadata": {},
   "outputs": [
    {
     "data": {
      "text/plain": [
       "'ab'"
      ]
     },
     "execution_count": 5,
     "metadata": {},
     "output_type": "execute_result"
    }
   ],
   "source": [
    "str1[0:2]"
   ]
  },
  {
   "cell_type": "code",
   "execution_count": 6,
   "id": "18c08dbd",
   "metadata": {},
   "outputs": [
    {
     "data": {
      "text/plain": [
       "'abcd'"
      ]
     },
     "execution_count": 6,
     "metadata": {},
     "output_type": "execute_result"
    }
   ],
   "source": [
    "str1"
   ]
  },
  {
   "cell_type": "markdown",
   "id": "c037c90f",
   "metadata": {},
   "source": [
    "# Q6. What is the relationship between string and character \"types\" in Python?\n",
    "\n",
    "## Answer:"
   ]
  },
  {
   "cell_type": "markdown",
   "id": "9850a92b",
   "metadata": {},
   "source": [
    "#### In Python, Strings are arrays of bytes representing Unicode characters. However, Python does not have a character data type, a single character is simply a string with a length of 1. Square brackets can be used to access elements of the string."
   ]
  },
  {
   "cell_type": "markdown",
   "id": "39c9ebc8",
   "metadata": {},
   "source": [
    "# Q7. Identify at least two operators and one method that allow you to combine one or more smaller strings to create a larger string.\n",
    "\n",
    "## Answer:"
   ]
  },
  {
   "cell_type": "markdown",
   "id": "39e685db",
   "metadata": {},
   "source": [
    "#### Python string concatenation is the process of merging two or more strings. The + operator adds a string to another string. % lets you insert a string into another string value. Both operators are used to concatenate strings in Python.\n",
    "\n",
    "#### Also, we can concatenate two or more strings using in built method join. All the examples are given below:"
   ]
  },
  {
   "cell_type": "code",
   "execution_count": 16,
   "id": "d36aa0dc",
   "metadata": {},
   "outputs": [
    {
     "data": {
      "text/plain": [
       "'abcefg'"
      ]
     },
     "execution_count": 16,
     "metadata": {},
     "output_type": "execute_result"
    }
   ],
   "source": [
    "str1= 'abc'\n",
    "str2= 'efg'\n",
    "\n",
    "str1+str2"
   ]
  },
  {
   "cell_type": "code",
   "execution_count": 17,
   "id": "ea66abba",
   "metadata": {},
   "outputs": [
    {
     "name": "stdout",
     "output_type": "stream",
     "text": [
      "Jack and Jill went up the hill.\n"
     ]
    }
   ],
   "source": [
    "jack_and_jill = \"%s and %s went up the hill.\" % (\"Jack\", \"Jill\")\n",
    "print(jack_and_jill)"
   ]
  },
  {
   "cell_type": "code",
   "execution_count": 25,
   "id": "6d6ad737",
   "metadata": {},
   "outputs": [
    {
     "data": {
      "text/plain": [
       "'abcefg'"
      ]
     },
     "execution_count": 25,
     "metadata": {},
     "output_type": "execute_result"
    }
   ],
   "source": [
    "''.join([str1, str2]) # conctenation using join method"
   ]
  },
  {
   "cell_type": "markdown",
   "id": "845f60f7",
   "metadata": {},
   "source": [
    "# Q8. What is the benefit of first checking the target string with in or not in before using the index method to find a substring?\n",
    "\n",
    "## Answer:"
   ]
  },
  {
   "cell_type": "markdown",
   "id": "7de39d6f",
   "metadata": {},
   "source": [
    "#### By doing this we would have a better command to apply certain operations. Also, we can avoid certain errors which are related to index. e.g."
   ]
  },
  {
   "cell_type": "code",
   "execution_count": 27,
   "id": "c6d64e02",
   "metadata": {},
   "outputs": [
    {
     "ename": "IndexError",
     "evalue": "string index out of range",
     "output_type": "error",
     "traceback": [
      "\u001b[1;31m---------------------------------------------------------------------------\u001b[0m",
      "\u001b[1;31mIndexError\u001b[0m                                Traceback (most recent call last)",
      "\u001b[1;32m<ipython-input-27-ddbabfce4381>\u001b[0m in \u001b[0;36m<module>\u001b[1;34m\u001b[0m\n\u001b[0;32m      1\u001b[0m \u001b[0mstr12\u001b[0m \u001b[1;33m=\u001b[0m \u001b[1;34m'asjhsj'\u001b[0m\u001b[1;33m\u001b[0m\u001b[1;33m\u001b[0m\u001b[0m\n\u001b[0;32m      2\u001b[0m \u001b[1;33m\u001b[0m\u001b[0m\n\u001b[1;32m----> 3\u001b[1;33m \u001b[0mstr12\u001b[0m\u001b[1;33m[\u001b[0m\u001b[1;36m10\u001b[0m\u001b[1;33m]\u001b[0m\u001b[1;33m\u001b[0m\u001b[1;33m\u001b[0m\u001b[0m\n\u001b[0m",
      "\u001b[1;31mIndexError\u001b[0m: string index out of range"
     ]
    }
   ],
   "source": [
    "str12 = 'asjhsj'\n",
    "\n",
    "str12[10]"
   ]
  },
  {
   "cell_type": "markdown",
   "id": "f7a321de",
   "metadata": {},
   "source": [
    "# Q9. Which operators and built-in string methods produce simple Boolean (true/false) results?\n",
    "\n",
    "## Answer:"
   ]
  },
  {
   "cell_type": "markdown",
   "id": "bc6449f1",
   "metadata": {},
   "source": [
    "#### The logical operators and, or and not are also referred to as boolean operators. While and as well as or operator needs two operands, which may evaluate to true or false, not operator needs one operand evaluating to true or false. Boolean and operator returns true if both operands return true.\n",
    "\n",
    "#### There are many string methods which returns boolean output i.e. True/False.\n",
    "\n",
    "endswith(),\n",
    "isalnum(),\n",
    "isalpha(),\n",
    "isascii(),\n",
    "isdecimal(),\n",
    "isdigit(),\n",
    "isidentifier(),\n",
    "islower(),\n",
    "isnumeric(),\n",
    "isprintable(),\n",
    "isspace(),\n",
    "istitle(),\n",
    "isupper(),"
   ]
  }
 ],
 "metadata": {
  "kernelspec": {
   "display_name": "Python 3",
   "language": "python",
   "name": "python3"
  },
  "language_info": {
   "codemirror_mode": {
    "name": "ipython",
    "version": 3
   },
   "file_extension": ".py",
   "mimetype": "text/x-python",
   "name": "python",
   "nbconvert_exporter": "python",
   "pygments_lexer": "ipython3",
   "version": "3.8.8"
  }
 },
 "nbformat": 4,
 "nbformat_minor": 5
}
