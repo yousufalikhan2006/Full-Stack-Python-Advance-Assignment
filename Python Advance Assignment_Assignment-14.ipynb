{
 "cells": [
  {
   "cell_type": "markdown",
   "id": "3942f6af",
   "metadata": {},
   "source": [
    "# Q1. Is an assignment operator like += only for show? Is it possible that it would lead to faster results at the runtime?\n",
    "\n",
    "## Answer:"
   ]
  },
  {
   "cell_type": "markdown",
   "id": "83b7e368",
   "metadata": {},
   "source": [
    "#### No. The addition assignment operator ( += ) adds the value of the right operand to a variable and assigns the result to the variable. The types of the two operands determine the behavior of the addition assignment operator. Addition or concatenation is possible. Also, it would lead to faster results at run time."
   ]
  },
  {
   "cell_type": "markdown",
   "id": "fef680ab",
   "metadata": {},
   "source": [
    "# Q2. What is the smallest number of statements you'd have to write in most programming languages to replace the Python expression a, b = a + b, a?\n",
    "\n",
    "## Answer:"
   ]
  },
  {
   "cell_type": "markdown",
   "id": "4ce23c4d",
   "metadata": {},
   "source": [
    "#### int a=2,b=5\n",
    "#### a=a+b\n",
    "#### b=a"
   ]
  },
  {
   "cell_type": "markdown",
   "id": "56f0d88c",
   "metadata": {},
   "source": [
    "# Q3. In Python, what is the most effective way to set a list of 100 integers to 0?\n",
    "\n",
    "## Answer:"
   ]
  },
  {
   "cell_type": "code",
   "execution_count": 2,
   "id": "602a122c",
   "metadata": {},
   "outputs": [],
   "source": [
    "S=[0 for i in range(100)]"
   ]
  },
  {
   "cell_type": "markdown",
   "id": "d707ea9f",
   "metadata": {},
   "source": [
    "# Q4. What is the most effective way to initialise a list of 99 integers that repeats the sequence 1, 2, 3? S If necessary, show step-by-step instructions on how to accomplish this.\n",
    "\n",
    "## Answer:"
   ]
  },
  {
   "cell_type": "code",
   "execution_count": 8,
   "id": "a865ec69",
   "metadata": {},
   "outputs": [],
   "source": [
    "S=[1,2,3]*33"
   ]
  },
  {
   "cell_type": "markdown",
   "id": "6553feee",
   "metadata": {},
   "source": [
    "# Q6. Is it possible to use list comprehension with a string? If so, how can you go about doing it?\n",
    "\n",
    "## Answer:"
   ]
  },
  {
   "cell_type": "markdown",
   "id": "bdfcdc63",
   "metadata": {},
   "source": [
    "#### Yes, We can operate on iterable objects within a list comprehension. Below is the example given."
   ]
  },
  {
   "cell_type": "code",
   "execution_count": 11,
   "id": "27edd501",
   "metadata": {},
   "outputs": [
    {
     "data": {
      "text/plain": [
       "['a', 'b', 'c', 'd', 'e', 'f']"
      ]
     },
     "execution_count": 11,
     "metadata": {},
     "output_type": "execute_result"
    }
   ],
   "source": [
    "string = \"abcdef\"\n",
    "\n",
    "[i for i in string]"
   ]
  },
  {
   "cell_type": "markdown",
   "id": "9bcf5f17",
   "metadata": {},
   "source": [
    "# Q8. Functions are said to be “first-class objects” in Python but not in most other languages, such as C++ or Java. What can you do in Python with a function (callable object) that you can't do in C or C++?\n",
    "\n",
    "## Answer:"
   ]
  },
  {
   "cell_type": "markdown",
   "id": "71c7ee98",
   "metadata": {},
   "source": [
    "#### In Python, functions behave like any other object, such as an int or a list. That means that you can use functions as arguments to other functions, store functions as dictionary values, or return a function from another function."
   ]
  },
  {
   "cell_type": "markdown",
   "id": "025d6aa3",
   "metadata": {},
   "source": [
    "# Q9. How do you distinguish between a wrapper, a wrapped feature, and a decorator?\n",
    "\n",
    "## Answer:"
   ]
  },
  {
   "cell_type": "markdown",
   "id": "b4e408ce",
   "metadata": {},
   "source": [
    "#### Wrappers around the functions are also knows as decorators which are a very powerful and useful tool in Python since it allows programmers to modify the behavior of function or class. Decorators allow us to wrap another function in order to extend the behavior of the wrapped function, without permanently modifying it."
   ]
  },
  {
   "cell_type": "markdown",
   "id": "00e370e3",
   "metadata": {},
   "source": [
    "# Q10. If a function is a generator function, what does it return?\n",
    "\n",
    "## Answer:"
   ]
  },
  {
   "cell_type": "markdown",
   "id": "799109a5",
   "metadata": {},
   "source": [
    "#### A generator is a special type of function which does not return a single value, instead, it returns an iterator object with a sequence of values. ... It uses yield instead of return keyword. So, this will return the value against the yield keyword each time it is called."
   ]
  },
  {
   "cell_type": "markdown",
   "id": "9f12098d",
   "metadata": {},
   "source": [
    "# Q11. What is the one improvement that must be made to a function in order for it to become a generator function in the Python language?\n",
    "\n",
    "## Answer:"
   ]
  },
  {
   "cell_type": "markdown",
   "id": "37819699",
   "metadata": {},
   "source": [
    "#### The one improvement that must be made to a function in order it to become a generator function in the Python language, use the keyword yield instead of return."
   ]
  },
  {
   "cell_type": "markdown",
   "id": "7752b398",
   "metadata": {},
   "source": [
    "# Q12. Identify at least one benefit of generators.\n",
    "\n",
    "## Answer:"
   ]
  },
  {
   "cell_type": "markdown",
   "id": "49eb0c39",
   "metadata": {},
   "source": [
    "#### Memory is saved as the items are produced when required, unlike normal Python functions. This fact becomes very important when you need to create a huge number of iterators. This is also considered as the biggest advantage of generators. Can be used to produce an infinite number of items."
   ]
  }
 ],
 "metadata": {
  "kernelspec": {
   "display_name": "Python 3",
   "language": "python",
   "name": "python3"
  },
  "language_info": {
   "codemirror_mode": {
    "name": "ipython",
    "version": 3
   },
   "file_extension": ".py",
   "mimetype": "text/x-python",
   "name": "python",
   "nbconvert_exporter": "python",
   "pygments_lexer": "ipython3",
   "version": "3.8.8"
  }
 },
 "nbformat": 4,
 "nbformat_minor": 5
}
